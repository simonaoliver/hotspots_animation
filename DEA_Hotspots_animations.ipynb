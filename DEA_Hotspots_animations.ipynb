{
 "cells": [
  {
   "cell_type": "markdown",
   "metadata": {},
   "source": [
    "# Generate DEA Hotspots animations <img align=\"right\" src=\"../Supplementary_data/dea_logo.jpg\">\n",
    "\n",
    "* **Compatability:** Notebook currently compatible with both the `NCI` and `DEA Sandbox` environments\n",
    "* **Products used:** \n",
    "[ls8_nbart_geomedian_annual](https://explorer.sandbox.dea.ga.gov.au/ls8_nbart_geomedian_annual)\n"
   ]
  },
  {
   "cell_type": "markdown",
   "metadata": {},
   "source": [
    "## Description\n",
    "This notebook loads DEA Hotspots data for a given time and location, and animates the data over a 2018 Geomedian underlay with fading colours that represent the age of the hotspot.\n",
    "\n",
    "***"
   ]
  },
  {
   "cell_type": "markdown",
   "metadata": {},
   "source": [
    "## Getting started\n",
    "\n",
    "To run this analysis, run all the cells in the notebook, starting with the \"Load packages\" cell. "
   ]
  },
  {
   "cell_type": "markdown",
   "metadata": {},
   "source": [
    "### Load packages"
   ]
  },
  {
   "cell_type": "code",
   "execution_count": 1,
   "metadata": {},
   "outputs": [],
   "source": [
    "import os\n",
    "import xarray\n",
    "import rasterio\n",
    "import pandas as pd\n",
    "import geopandas as gpd\n",
    "import datetime as dt\n",
    "import matplotlib.pyplot as plt\n",
    "from matplotlib.cm import get_cmap\n",
    "\n",
    "from owslib.wms import WebMapService\n",
    "from IPython.display import Image\n",
    "\n",
    "# # Create custom cmap with dark grey at end \n",
    "#fires_cmap = get_cmap('YlOrRd').reversed()\n",
    "fires_cmap = get_cmap('autumn')\n",
    "fires_cmap.set_over('#8C8D8F')\n",
    "\n",
    "#dc = datacube.Datacube(app=\"DEA_hotspots\")\n"
   ]
  },
  {
   "cell_type": "markdown",
   "metadata": {},
   "source": [
    "## Parameters\n",
    "\n",
    "Set parameters used to load and visualise DEA Hotspots data"
   ]
  },
  {
   "cell_type": "code",
   "execution_count": 2,
   "metadata": {},
   "outputs": [],
   "source": [
    "# Setup params\n",
    "name = 'vicfires'  # name used for output files\n",
    "time_period = 28  # days from current date to include in animation (e.g. a month or week of data)\n",
    "y_max, x_min = -34.505141, 146.652687  # top left coordinates of bbox\n",
    "y_min, x_max = -38.062278, 151.305470  # bottom right coordinates of bbox\n",
    "min_confidence = 20  # minimum confidence value of hotspots to include in animation\n",
    "max_features = 500000  # maximum features to load from WFS\n",
    "\n",
    "# Visualisation params\n",
    "frame_freq = '2H'  # frequency used to generate animation frames (e.g. one frame every 3 hours). Smaller numbers create longer, smoother animations but take longer to render\n",
    "hotspots_markersize = 4  # size to plot hotspots on map\n",
    "hotspots_alpha = 0.5  # transperancy to plot hotspots on map\n",
    "fade_hours = 96  # hours used to fade hotspots from yellow to black\n",
    "geomedian_res = 0.003  # resolution in degrees to load geomedian underlay (smaller = slower rendering)"
   ]
  },
  {
   "cell_type": "markdown",
   "metadata": {},
   "source": [
    "## Load and clean hotspots data"
   ]
  },
  {
   "cell_type": "code",
   "execution_count": 3,
   "metadata": {
    "scrolled": true
   },
   "outputs": [
    {
     "data": {
      "text/plain": [
       "<matplotlib.axes._subplots.AxesSubplot at 0x7f084ce7b190>"
      ]
     },
     "execution_count": 3,
     "metadata": {},
     "output_type": "execute_result"
    },
    {
     "data": {
      "image/png": "[encoded data removed]",
      "text/plain": [
       "<Figure size 432x288 with 1 Axes>"
      ]
     },
     "metadata": {
      "needs_background": "light"
     },
     "output_type": "display_data"
    }
   ],
   "source": [
    "# Load WFS query data\n",
    "to_date = dt.datetime.today().strftime('%Y-%m-%d')  \n",
    "from_date = (dt.datetime.today() - dt.timedelta(days=time_period)).strftime('%Y-%m-%d')\n",
    "url = f\"https://hotspots.dea.ga.gov.au/geoserver/public/wfs?service=WFS&version=1.1.0&request=GetFeature&typeName=public:hotspots&outputFormat=application/json&CQL_FILTER=((sensor=%27AVHRR%27%20AND%20(product=%27SRSS%27))%20OR%20(sensor=%27MODIS%27%20AND%20(product=%27MOD14%27))%20OR%20(sensor=%27VIIRS%27%20AND%20(product=%27AFMOD%27%20OR%20product=%27EDR%27)))%20AND%20datetime%20%3E%20%27{from_date}%27%20AND%20datetime%20%3C%20%27{to_date}%27%20AND%20INTERSECTS(location,%20POLYGON(({y_min}%20{x_min},%20{y_min}%20{x_max},%20{y_max}%20{x_max},%20{y_max}%20{x_min},%20{y_min}%20{x_min})))&maxFeatures={max_features}&startIndex=0&sortBy=sensor%20A\"\n",
    "hotspots_gdf = gpd.read_file(url)\n",
    "\n",
    "# Filter by confidence\n",
    "hotspots_gdf = hotspots_gdf.loc[hotspots_gdf.confidence >= min_confidence]\n",
    "\n",
    "# Fix datetime\n",
    "hotspots_gdf['datetime'] = pd.to_datetime(hotspots_gdf['start_dt'])\n",
    "\n",
    "# Extract required columns\n",
    "hotspots_gdf = hotspots_gdf.loc[:, [\n",
    "    'datetime', 'latitude', 'longitude', 'confidence', 'geometry'\n",
    "]]\n",
    "hotspots_gdf.sort_values('datetime', ascending=True, inplace=True)\n",
    "hotspots_gdf.plot()"
   ]
  },
  {
   "cell_type": "markdown",
   "metadata": {},
   "source": [
    "## Load 2018 geomedian underlay"
   ]
  },
  {
   "cell_type": "code",
   "execution_count": 3,
   "metadata": {},
   "outputs": [],
   "source": [
    "url = \"https://gsky.nci.org.au/ows/dea\"\n",
    "wms = WebMapService(url, version='1.3.0')\n",
    "available_layers = list(wms.contents)\n",
    "\n",
    "layer = \"landsat8_geomedian\"\n",
    "crs = sorted(wms[layer].crsOptions)\n",
    "bbox = wms[layer].boundingBox\n",
    "time = wms[layer].timepositions\n",
    "styles = wms[layer].styles"
   ]
  },
  {
   "cell_type": "code",
   "execution_count": 15,
   "metadata": {},
   "outputs": [],
   "source": [
    "output = wms.getmap(layers=[layer],\n",
    "                        Styles='tc',\n",
    "                        srs=crs[2],\n",
    "                        bbox=(x_min, y_min, x_max, y_max),\n",
    "                        size=(512, 512),\n",
    "                        format='image/geotiff',\n",
    "                        time=time[5]\n",
    "                        )"
   ]
  },
  {
   "cell_type": "code",
   "execution_count": 16,
   "metadata": {},
   "outputs": [],
   "source": [
    "#Image(output.read())"
   ]
  },
  {
   "cell_type": "code",
   "execution_count": 25,
   "metadata": {},
   "outputs": [],
   "source": [
    "geotifffile = 'nswfires.tif'\n",
    "from PIL import Image\n",
    "with open(geotifffile, 'wb') as out:\n",
    "    out.write(output.read())\n",
    "#im = Image.open(geotifffile)\n",
    "#plt.figure(figsize=(10, 10))\n",
    "#plt.imshow(im)"
   ]
  },
  {
   "cell_type": "code",
   "execution_count": 94,
   "metadata": {},
   "outputs": [
    {
     "data": {
      "text/plain": [
       "146.652687"
      ]
     },
     "execution_count": 94,
     "metadata": {},
     "output_type": "execute_result"
    }
   ],
   "source": [
    "x_min"
   ]
  },
  {
   "cell_type": "code",
   "execution_count": 95,
   "metadata": {},
   "outputs": [],
   "source": [
    "infile='vichotspots.tif'\n",
    "outfile='vichotspots_georef.tif'\n",
    "from osgeo import gdal\n",
    "ds = gdal.Open(infile)\n",
    "ds = gdal.Translate(outfile, ds, projWin = [ x_min, y_min, x_max, y_max  ], projWinSRS = 'EPSG:4326')"
   ]
  },
  {
   "cell_type": "code",
   "execution_count": 78,
   "metadata": {},
   "outputs": [
    {
     "name": "stdout",
     "output_type": "stream",
     "text": [
      "Input file size is 512, 512\r\n",
      "0...10...20...30...40...50...60...70...80...90...100 - done.\r\n"
     ]
    }
   ],
   "source": [
    "!gdal_translate -a_srs 'EPSG:4326' -a_ullr $x_min $y_max $x_max $y_min -of 'GTIFF' 'qldhotspots.tif' 'qldhotspots_geo.tif'"
   ]
  },
  {
   "cell_type": "code",
   "execution_count": 84,
   "metadata": {},
   "outputs": [
    {
     "data": {
      "text/plain": [
       "256"
      ]
     },
     "execution_count": 84,
     "metadata": {},
     "output_type": "execute_result"
    }
   ],
   "source": [
    "infile = 'vichotspots.tif'\n",
    "outifle = 'vichotspots_georef.tif'\n",
    "os.system('gdal_translate -a_srs epsg -a_ullr $x_min $y_max $x_max $y_min -of GTIFF $infile $outfile')"
   ]
  },
  {
   "cell_type": "code",
   "execution_count": 85,
   "metadata": {},
   "outputs": [],
   "source": [
    "from affine import Affine"
   ]
  },
  {
   "cell_type": "code",
   "execution_count": 86,
   "metadata": {},
   "outputs": [],
   "source": [
    "import xarray as xr\n",
    "import numpy as np"
   ]
  },
  {
   "cell_type": "code",
   "execution_count": 98,
   "metadata": {},
   "outputs": [],
   "source": [
    "ds = xr.open_rasterio('vichotspots.tif')"
   ]
  },
  {
   "cell_type": "code",
   "execution_count": 99,
   "metadata": {},
   "outputs": [
    {
     "data": {
      "text/html": [
       "<pre>&lt;xarray.DataArray (band: 4, y: 512, x: 512)&gt;\n",
       "[1048576 values with dtype=uint8]\n",
       "Coordinates:\n",
       "  * band     (band) int64 1 2 3 4\n",
       "  * y        (y) float64 0.5 1.5 2.5 3.5 4.5 ... 507.5 508.5 509.5 510.5 511.5\n",
       "  * x        (x) float64 0.5 1.5 2.5 3.5 4.5 ... 507.5 508.5 509.5 510.5 511.5\n",
       "Attributes:\n",
       "    transform:   (1.0, 0.0, 0.0, 0.0, 1.0, 0.0)\n",
       "    res:         (1.0, -1.0)\n",
       "    is_tiled:    0\n",
       "    nodatavals:  (nan, nan, nan, nan)\n",
       "    scales:      (1.0, 1.0, 1.0, 1.0)\n",
       "    offsets:     (0.0, 0.0, 0.0, 0.0)</pre>"
      ],
      "text/plain": [
       "<xarray.DataArray (band: 4, y: 512, x: 512)>\n",
       "[1048576 values with dtype=uint8]\n",
       "Coordinates:\n",
       "  * band     (band) int64 1 2 3 4\n",
       "  * y        (y) float64 0.5 1.5 2.5 3.5 4.5 ... 507.5 508.5 509.5 510.5 511.5\n",
       "  * x        (x) float64 0.5 1.5 2.5 3.5 4.5 ... 507.5 508.5 509.5 510.5 511.5\n",
       "Attributes:\n",
       "    transform:   (1.0, 0.0, 0.0, 0.0, 1.0, 0.0)\n",
       "    res:         (1.0, -1.0)\n",
       "    is_tiled:    0\n",
       "    nodatavals:  (nan, nan, nan, nan)\n",
       "    scales:      (1.0, 1.0, 1.0, 1.0)\n",
       "    offsets:     (0.0, 0.0, 0.0, 0.0)"
      ]
     },
     "execution_count": 99,
     "metadata": {},
     "output_type": "execute_result"
    }
   ],
   "source": []
  },
  {
   "cell_type": "code",
   "execution_count": 89,
   "metadata": {},
   "outputs": [
    {
     "data": {
      "text/plain": [
       "<matplotlib.image.AxesImage at 0x7fd5e50736d0>"
      ]
     },
     "execution_count": 89,
     "metadata": {},
     "output_type": "execute_result"
    },
    {
     "data": {
      "image/png": "[encoded data removed]",
      "text/plain": [
       "<Figure size 432x288 with 1 Axes>"
      ]
     },
     "metadata": {
      "needs_background": "light"
     },
     "output_type": "display_data"
    }
   ],
   "source": [
    "ds[[0,1,2]].plot.imshow()"
   ]
  },
  {
   "cell_type": "markdown",
   "metadata": {},
   "source": [
    "## Generate animation frames"
   ]
  },
  {
   "cell_type": "code",
   "execution_count": 31,
   "metadata": {},
   "outputs": [
    {
     "name": "stdout",
     "output_type": "stream",
     "text": [
      "2019-12-26 03:26:45\n"
     ]
    },
    {
     "name": "stderr",
     "output_type": "stream",
     "text": [
      "/home/simonaoliver/anaconda3/envs/animation/lib/python3.7/site-packages/geopandas/plotting.py:510: UserWarning: The GeoDataFrame you are attempting to plot is empty. Nothing has been displayed.\n",
      "  UserWarning,\n"
     ]
    },
    {
     "name": "stdout",
     "output_type": "stream",
     "text": [
      "2019-12-26 05:26:45\n",
      "2019-12-26 07:26:45\n",
      "2019-12-26 09:26:45\n",
      "2019-12-26 11:26:45\n",
      "2019-12-26 13:26:45\n",
      "2019-12-26 15:26:45\n",
      "2019-12-26 17:26:45\n",
      "2019-12-26 19:26:45\n",
      "2019-12-26 21:26:45\n",
      "2019-12-26 23:26:45\n",
      "2019-12-27 01:26:45\n",
      "2019-12-27 03:26:45\n",
      "2019-12-27 05:26:45\n",
      "2019-12-27 07:26:45\n",
      "2019-12-27 09:26:45\n",
      "2019-12-27 11:26:45\n",
      "2019-12-27 13:26:45\n",
      "2019-12-27 15:26:45\n",
      "2019-12-27 17:26:45\n",
      "2019-12-27 19:26:45\n",
      "2019-12-27 21:26:45\n",
      "2019-12-27 23:26:45\n",
      "2019-12-28 01:26:45\n",
      "2019-12-28 03:26:45\n",
      "2019-12-28 05:26:45\n",
      "2019-12-28 07:26:45\n",
      "2019-12-28 09:26:45\n",
      "2019-12-28 11:26:45\n",
      "2019-12-28 13:26:45\n",
      "2019-12-28 15:26:45\n",
      "2019-12-28 17:26:45\n",
      "2019-12-28 19:26:45\n",
      "2019-12-28 21:26:45\n",
      "2019-12-28 23:26:45\n",
      "2019-12-29 01:26:45\n",
      "2019-12-29 03:26:45\n",
      "2019-12-29 05:26:45\n",
      "2019-12-29 07:26:45\n",
      "2019-12-29 09:26:45\n",
      "2019-12-29 11:26:45\n",
      "2019-12-29 13:26:45\n",
      "2019-12-29 15:26:45\n",
      "2019-12-29 17:26:45\n",
      "2019-12-29 19:26:45\n",
      "2019-12-29 21:26:45\n",
      "2019-12-29 23:26:45\n",
      "2019-12-30 01:26:45\n",
      "2019-12-30 03:26:45\n",
      "2019-12-30 05:26:45\n",
      "2019-12-30 07:26:45\n",
      "2019-12-30 09:26:45\n",
      "2019-12-30 11:26:45\n",
      "2019-12-30 13:26:45\n",
      "2019-12-30 15:26:45\n",
      "2019-12-30 17:26:45\n",
      "2019-12-30 19:26:45\n",
      "2019-12-30 21:26:45\n",
      "2019-12-30 23:26:45\n",
      "2019-12-31 01:26:45\n",
      "2019-12-31 03:26:45\n",
      "2019-12-31 05:26:45\n",
      "2019-12-31 07:26:45\n",
      "2019-12-31 09:26:45\n",
      "2019-12-31 11:26:45\n",
      "2019-12-31 13:26:45\n",
      "2019-12-31 15:26:45\n",
      "2019-12-31 17:26:45\n",
      "2019-12-31 19:26:45\n",
      "2019-12-31 21:26:45\n",
      "2019-12-31 23:26:45\n",
      "2020-01-01 01:26:45\n",
      "2020-01-01 03:26:45\n",
      "2020-01-01 05:26:45\n",
      "2020-01-01 07:26:45\n",
      "2020-01-01 09:26:45\n",
      "2020-01-01 11:26:45\n",
      "2020-01-01 13:26:45\n",
      "2020-01-01 15:26:45\n",
      "2020-01-01 17:26:45\n",
      "2020-01-01 19:26:45\n",
      "2020-01-01 21:26:45\n",
      "2020-01-01 23:26:45\n",
      "2020-01-02 01:26:45\n",
      "2020-01-02 03:26:45\n",
      "2020-01-02 05:26:45\n",
      "2020-01-02 07:26:45\n",
      "2020-01-02 09:26:45\n",
      "2020-01-02 11:26:45\n",
      "2020-01-02 13:26:45\n",
      "2020-01-02 15:26:45\n",
      "2020-01-02 17:26:45\n",
      "2020-01-02 19:26:45\n",
      "2020-01-02 21:26:45\n",
      "2020-01-02 23:26:45\n",
      "2020-01-03 01:26:45\n",
      "2020-01-03 03:26:45\n",
      "2020-01-03 05:26:45\n",
      "2020-01-03 07:26:45\n",
      "2020-01-03 09:26:45\n",
      "2020-01-03 11:26:45\n",
      "2020-01-03 13:26:45\n",
      "2020-01-03 15:26:45\n",
      "2020-01-03 17:26:45\n",
      "2020-01-03 19:26:45\n",
      "2020-01-03 21:26:45\n",
      "2020-01-03 23:26:45\n",
      "2020-01-04 01:26:45\n",
      "2020-01-04 03:26:45\n",
      "2020-01-04 05:26:45\n",
      "2020-01-04 07:26:45\n",
      "2020-01-04 09:26:45\n",
      "2020-01-04 11:26:45\n",
      "2020-01-04 13:26:45\n",
      "2020-01-04 15:26:45\n",
      "2020-01-04 17:26:45\n",
      "2020-01-04 19:26:45\n",
      "2020-01-04 21:26:45\n",
      "2020-01-04 23:26:45\n",
      "2020-01-05 01:26:45\n",
      "2020-01-05 03:26:45\n",
      "2020-01-05 05:26:45\n",
      "2020-01-05 07:26:45\n",
      "2020-01-05 09:26:45\n",
      "2020-01-05 11:26:45\n",
      "2020-01-05 13:26:45\n",
      "2020-01-05 15:26:45\n",
      "2020-01-05 17:26:45\n",
      "2020-01-05 19:26:45\n",
      "2020-01-05 21:26:45\n",
      "2020-01-05 23:26:45\n",
      "2020-01-06 01:26:45\n",
      "2020-01-06 03:26:45\n",
      "2020-01-06 05:26:45\n",
      "2020-01-06 07:26:45\n",
      "2020-01-06 09:26:45\n",
      "2020-01-06 11:26:45\n",
      "2020-01-06 13:26:45\n",
      "2020-01-06 15:26:45\n",
      "2020-01-06 17:26:45\n",
      "2020-01-06 19:26:45\n",
      "2020-01-06 21:26:45\n",
      "2020-01-06 23:26:45\n",
      "2020-01-07 01:26:45\n",
      "2020-01-07 03:26:45\n",
      "2020-01-07 05:26:45\n",
      "2020-01-07 07:26:45\n",
      "2020-01-07 09:26:45\n",
      "2020-01-07 11:26:45\n",
      "2020-01-07 13:26:45\n",
      "2020-01-07 15:26:45\n",
      "2020-01-07 17:26:45\n",
      "2020-01-07 19:26:45\n",
      "2020-01-07 21:26:45\n",
      "2020-01-07 23:26:45\n",
      "2020-01-08 01:26:45\n",
      "2020-01-08 03:26:45\n",
      "2020-01-08 05:26:45\n",
      "2020-01-08 07:26:45\n",
      "2020-01-08 09:26:45\n",
      "2020-01-08 11:26:45\n",
      "2020-01-08 13:26:45\n",
      "2020-01-08 15:26:45\n",
      "2020-01-08 17:26:45\n",
      "2020-01-08 19:26:45\n",
      "2020-01-08 21:26:45\n",
      "2020-01-08 23:26:45\n",
      "2020-01-09 01:26:45\n",
      "2020-01-09 03:26:45\n",
      "2020-01-09 05:26:45\n",
      "2020-01-09 07:26:45\n",
      "2020-01-09 09:26:45\n",
      "2020-01-09 11:26:45\n",
      "2020-01-09 13:26:45\n",
      "2020-01-09 15:26:45\n",
      "2020-01-09 17:26:45\n",
      "2020-01-09 19:26:45\n",
      "2020-01-09 21:26:45\n",
      "2020-01-09 23:26:45\n",
      "2020-01-10 01:26:45\n",
      "2020-01-10 03:26:45\n",
      "2020-01-10 05:26:45\n",
      "2020-01-10 07:26:45\n",
      "2020-01-10 09:26:45\n",
      "2020-01-10 11:26:45\n",
      "2020-01-10 13:26:45\n",
      "2020-01-10 15:26:45\n",
      "2020-01-10 17:26:45\n",
      "2020-01-10 19:26:45\n",
      "2020-01-10 21:26:45\n",
      "2020-01-10 23:26:45\n",
      "2020-01-11 01:26:45\n",
      "2020-01-11 03:26:45\n",
      "2020-01-11 05:26:45\n",
      "2020-01-11 07:26:45\n",
      "2020-01-11 09:26:45\n",
      "2020-01-11 11:26:45\n",
      "2020-01-11 13:26:45\n",
      "2020-01-11 15:26:45\n",
      "2020-01-11 17:26:45\n",
      "2020-01-11 19:26:45\n",
      "2020-01-11 21:26:45\n",
      "2020-01-11 23:26:45\n",
      "2020-01-12 01:26:45\n",
      "2020-01-12 03:26:45\n",
      "2020-01-12 05:26:45\n",
      "2020-01-12 07:26:45\n",
      "2020-01-12 09:26:45\n",
      "2020-01-12 11:26:45\n",
      "2020-01-12 13:26:45\n",
      "2020-01-12 15:26:45\n",
      "2020-01-12 17:26:45\n",
      "2020-01-12 19:26:45\n",
      "2020-01-12 21:26:45\n",
      "2020-01-12 23:26:45\n",
      "2020-01-13 01:26:45\n",
      "2020-01-13 03:26:45\n",
      "2020-01-13 05:26:45\n",
      "2020-01-13 07:26:45\n",
      "2020-01-13 09:26:45\n",
      "2020-01-13 11:26:45\n",
      "2020-01-13 13:26:45\n",
      "2020-01-13 15:26:45\n",
      "2020-01-13 17:26:45\n",
      "2020-01-13 19:26:45\n",
      "2020-01-13 21:26:45\n",
      "2020-01-13 23:26:45\n",
      "2020-01-14 01:26:45\n",
      "2020-01-14 03:26:45\n",
      "2020-01-14 05:26:45\n",
      "2020-01-14 07:26:45\n",
      "2020-01-14 09:26:45\n",
      "2020-01-14 11:26:45\n",
      "2020-01-14 13:26:45\n",
      "2020-01-14 15:26:45\n",
      "2020-01-14 17:26:45\n",
      "2020-01-14 19:26:45\n",
      "2020-01-14 21:26:45\n",
      "2020-01-14 23:26:45\n",
      "2020-01-15 01:26:45\n",
      "2020-01-15 03:26:45\n",
      "2020-01-15 05:26:45\n",
      "2020-01-15 07:26:45\n",
      "2020-01-15 09:26:45\n",
      "2020-01-15 11:26:45\n",
      "2020-01-15 13:26:45\n",
      "2020-01-15 15:26:45\n",
      "2020-01-15 17:26:45\n",
      "2020-01-15 19:26:45\n",
      "2020-01-15 21:26:45\n",
      "2020-01-15 23:26:45\n",
      "2020-01-16 01:26:45\n",
      "2020-01-16 03:26:45\n",
      "2020-01-16 05:26:45\n",
      "2020-01-16 07:26:45\n",
      "2020-01-16 09:26:45\n",
      "2020-01-16 11:26:45\n",
      "2020-01-16 13:26:45\n",
      "2020-01-16 15:26:45\n",
      "2020-01-16 17:26:45\n",
      "2020-01-16 19:26:45\n",
      "2020-01-16 21:26:45\n",
      "2020-01-16 23:26:45\n",
      "2020-01-17 01:26:45\n",
      "2020-01-17 03:26:45\n",
      "2020-01-17 05:26:45\n",
      "2020-01-17 07:26:45\n",
      "2020-01-17 09:26:45\n",
      "2020-01-17 11:26:45\n",
      "2020-01-17 13:26:45\n",
      "2020-01-17 15:26:45\n",
      "2020-01-17 17:26:45\n",
      "2020-01-17 19:26:45\n",
      "2020-01-17 21:26:45\n",
      "2020-01-17 23:26:45\n",
      "2020-01-18 01:26:45\n",
      "2020-01-18 03:26:45\n",
      "2020-01-18 05:26:45\n",
      "2020-01-18 07:26:45\n",
      "2020-01-18 09:26:45\n",
      "2020-01-18 11:26:45\n",
      "2020-01-18 13:26:45\n",
      "2020-01-18 15:26:45\n",
      "2020-01-18 17:26:45\n",
      "2020-01-18 19:26:45\n",
      "2020-01-18 21:26:45\n",
      "2020-01-18 23:26:45\n",
      "2020-01-19 01:26:45\n",
      "2020-01-19 03:26:45\n",
      "2020-01-19 05:26:45\n",
      "2020-01-19 07:26:45\n",
      "2020-01-19 09:26:45\n",
      "2020-01-19 11:26:45\n",
      "2020-01-19 13:26:45\n",
      "2020-01-19 15:26:45\n",
      "2020-01-19 17:26:45\n",
      "2020-01-19 19:26:45\n",
      "2020-01-19 21:26:45\n",
      "2020-01-19 23:26:45\n",
      "2020-01-20 01:26:45\n",
      "2020-01-20 03:26:45\n",
      "2020-01-20 05:26:45\n",
      "2020-01-20 07:26:45\n",
      "2020-01-20 09:26:45\n",
      "2020-01-20 11:26:45\n",
      "2020-01-20 13:26:45\n",
      "2020-01-20 15:26:45\n",
      "2020-01-20 17:26:45\n",
      "2020-01-20 19:26:45\n",
      "2020-01-20 21:26:45\n",
      "2020-01-20 23:26:45\n",
      "2020-01-21 01:26:45\n",
      "2020-01-21 03:26:45\n",
      "2020-01-21 05:26:45\n",
      "2020-01-21 07:26:45\n",
      "2020-01-21 09:26:45\n",
      "2020-01-21 11:26:45\n",
      "2020-01-21 13:26:45\n",
      "2020-01-21 15:26:45\n",
      "2020-01-21 17:26:45\n",
      "2020-01-21 19:26:45\n",
      "2020-01-21 21:26:45\n",
      "2020-01-21 23:26:45\n",
      "2020-01-22 01:26:45\n",
      "2020-01-22 03:26:45\n",
      "2020-01-22 05:26:45\n",
      "2020-01-22 07:26:45\n",
      "2020-01-22 09:26:45\n",
      "2020-01-22 11:26:45\n",
      "2020-01-22 13:26:45\n",
      "2020-01-22 15:26:45\n",
      "2020-01-22 17:26:45\n"
     ]
    },
    {
     "data": {
      "image/png": "[encoded data removed]",
      "text/plain": [
       "<Figure size 720x720 with 1 Axes>"
      ]
     },
     "metadata": {
      "needs_background": "light"
     },
     "output_type": "display_data"
    }
   ],
   "source": [
    "# If output folder doesn't exist, create it\n",
    "output_dir = f'frames_{name}'\n",
    "os.makedirs(output_dir, exist_ok=True)\n",
    "\n",
    "# Get date/times to iterate through (1 per frame)\n",
    "comp_dates = pd.date_range(hotspots_gdf.datetime.min(), \n",
    "                           hotspots_gdf.datetime.max(), \n",
    "                           freq=frame_freq)\n",
    "\n",
    "fig, ax = plt.subplots(1, 1, figsize=(10, 10))\n",
    "for i, comp_date in enumerate(comp_dates):\n",
    "    \n",
    "    print(comp_date)\n",
    "\n",
    "    # Extract only hotspots occuring prior to frame date/time\n",
    "    hotspots_prev = hotspots_gdf.loc[\n",
    "        hotspots_gdf['datetime'] < comp_date].copy()\n",
    "    \n",
    "    # Calculate hours between frame date and hotspot and sort\n",
    "    hotspots_prev['hours_before'] = ((\n",
    "        (comp_date - hotspots_prev['datetime'])).astype('timedelta64[m]') / 60)\n",
    "    hotspots_prev.sort_values('hours_before', inplace=True, ascending=False)\n",
    "\n",
    "    # Plot Geomedian as underlay\n",
    "    ds[[0,1,2]].plot.imshow(ax=ax, vmax=500)\n",
    "    # Plot hotspots\n",
    "    hotspots_prev.plot(ax=ax,\n",
    "                       column='hours_before',\n",
    "                       cmap=fires_cmap,\n",
    "                       markersize=hotspots_markersize,\n",
    "                       alpha=hotspots_alpha,\n",
    "                       vmin=0,\n",
    "                       vmax=fade_hours)\n",
    "    \n",
    "    # Customise plot and add title\n",
    "    ax.set_facecolor('black')\n",
    "    ax.set_xlim([x_min, x_max])\n",
    "    ax.set_ylim([y_min, y_max])\n",
    "    ax.get_xaxis().set_visible(False)\n",
    "    ax.get_yaxis().set_visible(False)\n",
    "    ax.set_title('');\n",
    "    ax.text(0.03, 0.95,\n",
    "            f\"{comp_date.tz_localize(tz='UTC').tz_convert('Australia/Sydney'):%Y-%m-%d}\",\n",
    "            ha='left', \n",
    "            va='center', \n",
    "            transform=ax.transAxes,\n",
    "           fontdict={'fontsize': 20, \n",
    "                     'color': 'white', \n",
    "                     'fontname':'Liberation Sans'})\n",
    "    \n",
    "    # Export frame to file\n",
    "    fig.savefig(f'{output_dir}/hotspots_{i}.png', \n",
    "                bbox_inches='tight',\n",
    "                dpi=100,\n",
    "                pad_inches=0)\n",
    "    plt.cla()\n"
   ]
  },
  {
   "cell_type": "markdown",
   "metadata": {},
   "source": [
    "## Combine into MP4 animation using FFMPEG"
   ]
  },
  {
   "cell_type": "code",
   "execution_count": 21,
   "metadata": {},
   "outputs": [
    {
     "name": "stdout",
     "output_type": "stream",
     "text": [
      "ffmpeg version 3.4.6-0ubuntu0.18.04.1 Copyright (c) 2000-2019 the FFmpeg developers\n",
      "  built with gcc 7 (Ubuntu 7.3.0-16ubuntu3)\n",
      "  configuration: --prefix=/usr --extra-version=0ubuntu0.18.04.1 --toolchain=hardened --libdir=/usr/lib/x86_64-linux-gnu --incdir=/usr/include/x86_64-linux-gnu --enable-gpl --disable-stripping --enable-avresample --enable-avisynth --enable-gnutls --enable-ladspa --enable-libass --enable-libbluray --enable-libbs2b --enable-libcaca --enable-libcdio --enable-libflite --enable-libfontconfig --enable-libfreetype --enable-libfribidi --enable-libgme --enable-libgsm --enable-libmp3lame --enable-libmysofa --enable-libopenjpeg --enable-libopenmpt --enable-libopus --enable-libpulse --enable-librubberband --enable-librsvg --enable-libshine --enable-libsnappy --enable-libsoxr --enable-libspeex --enable-libssh --enable-libtheora --enable-libtwolame --enable-libvorbis --enable-libvpx --enable-libwavpack --enable-libwebp --enable-libx265 --enable-libxml2 --enable-libxvid --enable-libzmq --enable-libzvbi --enable-omx --enable-openal --enable-opengl --enable-sdl2 --enable-libdc1394 --enable-libdrm --enable-libiec61883 --enable-chromaprint --enable-frei0r --enable-libopencv --enable-libx264 --enable-shared\n",
      "  libavutil      55. 78.100 / 55. 78.100\n",
      "  libavcodec     57.107.100 / 57.107.100\n",
      "  libavformat    57. 83.100 / 57. 83.100\n",
      "  libavdevice    57. 10.100 / 57. 10.100\n",
      "  libavfilter     6.107.100 /  6.107.100\n",
      "  libavresample   3.  7.  0 /  3.  7.  0\n",
      "  libswscale      4.  8.100 /  4.  8.100\n",
      "  libswresample   2.  9.100 /  2.  9.100\n",
      "  libpostproc    54.  7.100 / 54.  7.100\n",
      "Input #0, image2, from 'frames_vicfires/hotspots_%d.png':\n",
      "  Duration: 00:00:13.28, start: 0.000000, bitrate: N/A\n",
      "    Stream #0:0: Video: png, rgba(pc), 779x597 [SAR 3937:3937 DAR 779:597], 25 fps, 25 tbr, 25 tbn, 25 tbc\n",
      "Stream mapping:\n",
      "  Stream #0:0 -> #0:0 (png (native) -> h264 (libx264))\n",
      "Press [q] to stop, [?] for help\n",
      "\u001b[1;36m[libx264 @ 0x55bd17e6efc0] \u001b[0musing SAR=1/1\n",
      "\u001b[1;36m[libx264 @ 0x55bd17e6efc0] \u001b[0musing cpu capabilities: MMX2 SSE2Fast SSSE3 SSE4.2 AVX FMA3 BMI2 AVX2\n",
      "\u001b[1;36m[libx264 @ 0x55bd17e6efc0] \u001b[0mprofile High, level 3.1\n",
      "\u001b[1;36m[libx264 @ 0x55bd17e6efc0] \u001b[0m264 - core 152 r2854 e9a5903 - H.264/MPEG-4 AVC codec - Copyleft 2003-2017 - http://www.videolan.org/x264.html - options: cabac=1 ref=3 deblock=1:0:0 analyse=0x3:0x113 me=hex subme=7 psy=1 psy_rd=1.00:0.00 mixed_ref=1 me_range=16 chroma_me=1 trellis=1 8x8dct=1 cqm=0 deadzone=21,11 fast_pskip=1 chroma_qp_offset=-2 threads=6 lookahead_threads=1 sliced_threads=0 nr=0 decimate=1 interlaced=0 bluray_compat=0 constrained_intra=0 bframes=3 b_pyramid=2 b_adapt=1 b_bias=0 direct=1 weightb=1 open_gop=0 weightp=2 keyint=250 keyint_min=24 scenecut=40 intra_refresh=0 rc_lookahead=40 rc=crf mbtree=1 crf=23.0 qcomp=0.60 qpmin=0 qpmax=69 qpstep=4 ip_ratio=1.40 aq=1:1.00\n",
      "Output #0, mp4, to 'frames_vicfires/hotspots_animation.mp4':\n",
      "  Metadata:\n",
      "    encoder         : Lavf57.83.100\n",
      "    Stream #0:0: Video: h264 (libx264) (avc1 / 0x31637661), yuv420p, 764x582 [SAR 1:1 DAR 382:291], q=-1--1, 24 fps, 12288 tbn, 24 tbc\n",
      "    Metadata:\n",
      "      encoder         : Lavc57.107.100 libx264\n",
      "    Side data:\n",
      "      cpb: bitrate max/min/avg: 0/0/0 buffer size: 0 vbv_delay: -1\n",
      "frame=  661 fps= 13 q=-1.0 Lsize=    1435kB time=00:00:27.41 bitrate= 428.7kbits/s speed=0.534x    \n",
      "video:1427kB audio:0kB subtitle:0kB other streams:0kB global headers:0kB muxing overhead: 0.519541%\n",
      "\u001b[1;36m[libx264 @ 0x55bd17e6efc0] \u001b[0mframe I:3     Avg QP:15.53  size:164887\n",
      "\u001b[1;36m[libx264 @ 0x55bd17e6efc0] \u001b[0mframe P:371   Avg QP:20.87  size:  2538\n",
      "\u001b[1;36m[libx264 @ 0x55bd17e6efc0] \u001b[0mframe B:287   Avg QP:27.72  size:    87\n",
      "\u001b[1;36m[libx264 @ 0x55bd17e6efc0] \u001b[0mconsecutive B-frames: 25.7% 49.0%  0.5% 24.8%\n",
      "\u001b[1;36m[libx264 @ 0x55bd17e6efc0] \u001b[0mmb I  I16..4:  5.8% 37.5% 56.7%\n",
      "\u001b[1;36m[libx264 @ 0x55bd17e6efc0] \u001b[0mmb P  I16..4:  0.0%  0.0%  0.1%  P16..4: 11.9%  1.0%  2.6%  0.0%  0.0%    skip:84.4%\n",
      "\u001b[1;36m[libx264 @ 0x55bd17e6efc0] \u001b[0mmb B  I16..4:  0.0%  0.0%  0.0%  B16..8:  3.8%  0.0%  0.0%  direct: 0.0%  skip:96.1%  L0: 7.3% L1:91.7% BI: 1.0%\n",
      "\u001b[1;36m[libx264 @ 0x55bd17e6efc0] \u001b[0m8x8 transform intra:35.8% inter:47.7%\n",
      "\u001b[1;36m[libx264 @ 0x55bd17e6efc0] \u001b[0mcoded y,uvDC,uvAC intra: 89.1% 87.6% 81.2% inter: 3.3% 5.7% 3.1%\n",
      "\u001b[1;36m[libx264 @ 0x55bd17e6efc0] \u001b[0mi16 v,h,dc,p: 34% 18% 35% 13%\n",
      "\u001b[1;36m[libx264 @ 0x55bd17e6efc0] \u001b[0mi8 v,h,dc,ddl,ddr,vr,hd,vl,hu: 19% 13% 31%  6%  7%  5%  7%  5%  8%\n",
      "\u001b[1;36m[libx264 @ 0x55bd17e6efc0] \u001b[0mi4 v,h,dc,ddl,ddr,vr,hd,vl,hu: 15% 14% 17%  8%  9%  8% 11%  7% 11%\n",
      "\u001b[1;36m[libx264 @ 0x55bd17e6efc0] \u001b[0mi8c dc,h,v,p: 65% 12% 12% 11%\n",
      "\u001b[1;36m[libx264 @ 0x55bd17e6efc0] \u001b[0mWeighted P-Frames: Y:0.0% UV:0.0%\n",
      "\u001b[1;36m[libx264 @ 0x55bd17e6efc0] \u001b[0mref P L0: 58.0% 27.7%  9.1%  5.2%\n",
      "\u001b[1;36m[libx264 @ 0x55bd17e6efc0] \u001b[0mref B L0: 89.1%  9.6%  1.3%\n",
      "\u001b[1;36m[libx264 @ 0x55bd17e6efc0] \u001b[0mref B L1: 99.4%  0.6%\n",
      "\u001b[1;36m[libx264 @ 0x55bd17e6efc0] \u001b[0mkb/s:424.37\n"
     ]
    }
   ],
   "source": [
    "!ffmpeg -y -r 12 -i $output_dir/hotspots_%d.png -c:v libx264 -vf crop=in_w-15:in_h-15,minterpolate=fps=24 -pix_fmt yuv420p $output_dir/hotspots_animation.mp4"
   ]
  },
  {
   "cell_type": "code",
   "execution_count": 25,
   "metadata": {},
   "outputs": [
    {
     "name": "stdout",
     "output_type": "stream",
     "text": [
      "ffmpeg version 3.4.6-0ubuntu0.18.04.1 Copyright (c) 2000-2019 the FFmpeg developers\n",
      "  built with gcc 7 (Ubuntu 7.3.0-16ubuntu3)\n",
      "  configuration: --prefix=/usr --extra-version=0ubuntu0.18.04.1 --toolchain=hardened --libdir=/usr/lib/x86_64-linux-gnu --incdir=/usr/include/x86_64-linux-gnu --enable-gpl --disable-stripping --enable-avresample --enable-avisynth --enable-gnutls --enable-ladspa --enable-libass --enable-libbluray --enable-libbs2b --enable-libcaca --enable-libcdio --enable-libflite --enable-libfontconfig --enable-libfreetype --enable-libfribidi --enable-libgme --enable-libgsm --enable-libmp3lame --enable-libmysofa --enable-libopenjpeg --enable-libopenmpt --enable-libopus --enable-libpulse --enable-librubberband --enable-librsvg --enable-libshine --enable-libsnappy --enable-libsoxr --enable-libspeex --enable-libssh --enable-libtheora --enable-libtwolame --enable-libvorbis --enable-libvpx --enable-libwavpack --enable-libwebp --enable-libx265 --enable-libxml2 --enable-libxvid --enable-libzmq --enable-libzvbi --enable-omx --enable-openal --enable-opengl --enable-sdl2 --enable-libdc1394 --enable-libdrm --enable-libiec61883 --enable-chromaprint --enable-frei0r --enable-libopencv --enable-libx264 --enable-shared\n",
      "  libavutil      55. 78.100 / 55. 78.100\n",
      "  libavcodec     57.107.100 / 57.107.100\n",
      "  libavformat    57. 83.100 / 57. 83.100\n",
      "  libavdevice    57. 10.100 / 57. 10.100\n",
      "  libavfilter     6.107.100 /  6.107.100\n",
      "  libavresample   3.  7.  0 /  3.  7.  0\n",
      "  libswscale      4.  8.100 /  4.  8.100\n",
      "  libswresample   2.  9.100 /  2.  9.100\n",
      "  libpostproc    54.  7.100 / 54.  7.100\n",
      "Input #0, image2, from 'frames_vicfires/hotspots_%d.jpeg':\n",
      "  Duration: 00:00:13.04, start: 0.000000, bitrate: N/A\n",
      "    Stream #0:0: Video: mjpeg, yuvj420p(pc, bt470bg/unknown/unknown), 779x597 [SAR 100:100 DAR 779:597], 25 fps, 25 tbr, 25 tbn, 25 tbc\n",
      "\u001b[0;33mCodec AVOption crf (Select the quality for constant quality mode) specified for output file #0 (frames_vicfires/hotspots_animation.gif) has not been used for any stream. The most likely reason is either wrong type (e.g. a video option with no video streams) or that it is a private option of some encoder which was not actually used for any stream.\n",
      "\u001b[0mStream mapping:\n",
      "  Stream #0:0 -> #0:0 (mjpeg (native) -> gif (native))\n",
      "Press [q] to stop, [?] for help\n",
      "\u001b[1;34m[swscaler @ 0x55eda10ffba0] \u001b[0m\u001b[0;33mdeprecated pixel format used, make sure you did set range correctly\n",
      "\u001b[0m\u001b[1;34m[swscaler @ 0x55eda10ffba0] \u001b[0m\u001b[0;33mNo accelerated colorspace conversion found from yuv420p to bgr8.\n",
      "\u001b[0mOutput #0, gif, to 'frames_vicfires/hotspots_animation.gif':\n",
      "  Metadata:\n",
      "    encoder         : Lavf57.83.100\n",
      "    Stream #0:0: Video: gif, bgr8, 764x582 [SAR 1:1 DAR 382:291], q=2-31, 200 kb/s, 25 fps, 100 tbn, 25 tbc\n",
      "    Metadata:\n",
      "      encoder         : Lavc57.107.100 gif\n",
      "frame=  326 fps=128 q=-0.0 Lsize=    5149kB time=00:00:13.01 bitrate=3242.0kbits/s speed= 5.1x    \n",
      "video:5145kB audio:0kB subtitle:0kB other streams:0kB global headers:0kB muxing overhead: 0.064700%\n"
     ]
    }
   ],
   "source": [
    "!ffmpeg -y -i $output_dir/hotspots_%d.png -vf crop=in_w-15:in_h-15,minterpolate=fps=24 $output_dir/hotspots_animation.gif"
   ]
  },
  {
   "cell_type": "markdown",
   "metadata": {},
   "source": [
    "***\n",
    "\n",
    "## Additional information\n",
    "\n",
    "**License:** The code in this notebook is licensed under the [Apache License, Version 2.0](https://www.apache.org/licenses/LICENSE-2.0). \n",
    "Digital Earth Australia data is licensed under the [Creative Commons by Attribution 4.0](https://creativecommons.org/licenses/by/4.0/) license.\n",
    "\n",
    "**Contact:** If you need assistance, please post a question on the [Open Data Cube Slack channel](http://slack.opendatacube.org/) or on the [GIS Stack Exchange](https://gis.stackexchange.com/questions/ask?tags=open-data-cube) using the `open-data-cube` tag (you can view previously asked questions [here](https://gis.stackexchange.com/questions/tagged/open-data-cube)).\n",
    "If you would like to report an issue with this notebook, you can file one on [Github](https://github.com/GeoscienceAustralia/dea-notebooks).\n",
    "\n",
    "**Last modified:** January 2020\n",
    "\n",
    "**Compatible datacube version:** "
   ]
  },
  {
   "cell_type": "code",
   "execution_count": 8,
   "metadata": {},
   "outputs": [
    {
     "name": "stdout",
     "output_type": "stream",
     "text": [
      "1.7+164.gbdf45994.dirty\n"
     ]
    }
   ],
   "source": [
    "print(datacube.__version__)"
   ]
  },
  {
   "cell_type": "markdown",
   "metadata": {},
   "source": [
    "## Tags\n",
    "Browse all available tags on the DEA User Guide's [Tags Index](https://docs.dea.ga.gov.au/genindex.html)"
   ]
  },
  {
   "cell_type": "raw",
   "metadata": {
    "raw_mimetype": "text/restructuredtext"
   },
   "source": [
    "**Tags**: :index:`NCI compatible`, :index:`sandbox compatible`, :index:`annual geomedian`, :index:`DEA Hotspots`, :index:`time series`, :index:`animation`, :index:`fire`"
   ]
  }
 ],
 "metadata": {
  "kernelspec": {
   "display_name": "Python 3",
   "language": "python",
   "name": "python3"
  },
  "language_info": {
   "codemirror_mode": {
    "name": "ipython",
    "version": 3
   },
   "file_extension": ".py",
   "mimetype": "text/x-python",
   "name": "python",
   "nbconvert_exporter": "python",
   "pygments_lexer": "ipython3",
   "version": "3.7.6"
  },
  "widgets": {
   "application/vnd.jupyter.widget-state+json": {
    "state": {},
    "version_major": 2,
    "version_minor": 0
   }
  }
 },
 "nbformat": 4,
 "nbformat_minor": 4
}
